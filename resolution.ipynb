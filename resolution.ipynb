{
  "nbformat": 4,
  "nbformat_minor": 0,
  "metadata": {
    "colab": {
      "provenance": []
    },
    "kernelspec": {
      "name": "python3",
      "display_name": "Python 3"
    },
    "language_info": {
      "name": "python"
    }
  },
  "cells": [
    {
      "cell_type": "code",
      "execution_count": 12,
      "metadata": {
        "colab": {
          "base_uri": "https://localhost:8080/"
        },
        "id": "0LjGxBEgalFP",
        "outputId": "156cd780-09af-4309-e104-b6de6c8a9a49"
      },
      "outputs": [
        {
          "output_type": "stream",
          "name": "stdout",
          "text": [
            "[13, 12, 11, 12, 17, 14, 15, 14, 14, 13, 11, 14, 19, 10, 12, 12, 14, 17, 16, 12, 13, 17, 15, 17, 12, 19, 13, 18, 16, 10, 10, 14, 17, 16]\n",
            "[9, 0, 5, 0, 5, 0, 1, 4, 9, 3, 9, 0, 6, 4, 7, 7, 1, 7, 3, 5, 6, 2, 3, 7, 7, 6, 9, 5, 6, 8, 1, 5, 9, 9, 5, 2, 5, 1, 6, 0, 1, 0, 9, 7, 4, 6, 7, 7, 2, 3, 4, 3, 7, 5, 3, 5, 7, 6, 3, 9, 7, 5, 7, 7, 7, 7]\n"
          ]
        }
      ],
      "source": [
        "\n",
        "\n",
        "import numpy as np\n",
        "note = np.random.randint(0,20,100) \n",
        "\n",
        "valide = []\n",
        "non_valide =[]\n",
        "for i in note:\n",
        "  if i >= 10:\n",
        "    valide.append(i)\n",
        "  elif i <= 10:\n",
        "    non_valide.append(i)\n",
        "print(valide)\n",
        "print(non_valide)\n",
        " "
      ]
    }
  ]
}